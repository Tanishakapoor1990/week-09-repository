{
 "cells": [
  {
   "cell_type": "code",
   "execution_count": 2,
   "metadata": {},
   "outputs": [],
   "source": [
    "import pandas as pd\n",
    "import matplotlib.pyplot as plt\n",
    "%matplotlib inline\n",
    "import seaborn as sns"
   ]
  },
  {
   "cell_type": "code",
   "execution_count": 3,
   "metadata": {},
   "outputs": [
    {
     "data": {
      "text/html": [
       "<div>\n",
       "<style scoped>\n",
       "    .dataframe tbody tr th:only-of-type {\n",
       "        vertical-align: middle;\n",
       "    }\n",
       "\n",
       "    .dataframe tbody tr th {\n",
       "        vertical-align: top;\n",
       "    }\n",
       "\n",
       "    .dataframe thead th {\n",
       "        text-align: right;\n",
       "    }\n",
       "</style>\n",
       "<table border=\"1\" class=\"dataframe\">\n",
       "  <thead>\n",
       "    <tr style=\"text-align: right;\">\n",
       "      <th></th>\n",
       "      <th>id</th>\n",
       "      <th>name</th>\n",
       "      <th>host_id</th>\n",
       "      <th>host_name</th>\n",
       "      <th>neighbourhood_group</th>\n",
       "      <th>neighbourhood</th>\n",
       "      <th>latitude</th>\n",
       "      <th>longitude</th>\n",
       "      <th>room_type</th>\n",
       "      <th>price</th>\n",
       "      <th>minimum_nights</th>\n",
       "      <th>number_of_reviews</th>\n",
       "      <th>last_review</th>\n",
       "      <th>reviews_per_month</th>\n",
       "      <th>calculated_host_listings_count</th>\n",
       "      <th>availability_365</th>\n",
       "    </tr>\n",
       "  </thead>\n",
       "  <tbody>\n",
       "    <tr>\n",
       "      <th>0</th>\n",
       "      <td>36666</td>\n",
       "      <td>Mo's Cozy Casa w/ veranda &amp; access to dock</td>\n",
       "      <td>157752</td>\n",
       "      <td>Monique</td>\n",
       "      <td>Belize</td>\n",
       "      <td>Belize Islands</td>\n",
       "      <td>17.74786</td>\n",
       "      <td>-88.02398</td>\n",
       "      <td>Entire home/apt</td>\n",
       "      <td>141</td>\n",
       "      <td>3</td>\n",
       "      <td>250</td>\n",
       "      <td>2/23/2021</td>\n",
       "      <td>2.00</td>\n",
       "      <td>5</td>\n",
       "      <td>225</td>\n",
       "    </tr>\n",
       "    <tr>\n",
       "      <th>1</th>\n",
       "      <td>36690</td>\n",
       "      <td>Mo's Cozy Cabana w/ comfy veranda &amp; access to ...</td>\n",
       "      <td>157752</td>\n",
       "      <td>Monique</td>\n",
       "      <td>Belize</td>\n",
       "      <td>Belize Islands</td>\n",
       "      <td>17.74832</td>\n",
       "      <td>-88.02474</td>\n",
       "      <td>Entire home/apt</td>\n",
       "      <td>71</td>\n",
       "      <td>3</td>\n",
       "      <td>316</td>\n",
       "      <td>2/19/2021</td>\n",
       "      <td>2.46</td>\n",
       "      <td>5</td>\n",
       "      <td>164</td>\n",
       "    </tr>\n",
       "    <tr>\n",
       "      <th>2</th>\n",
       "      <td>108932</td>\n",
       "      <td>Purple House eco solar  w/ ocean &amp; wildlife views</td>\n",
       "      <td>563377</td>\n",
       "      <td>Michael</td>\n",
       "      <td>Belize</td>\n",
       "      <td>Belize Islands</td>\n",
       "      <td>17.73221</td>\n",
       "      <td>-88.03824</td>\n",
       "      <td>Entire home/apt</td>\n",
       "      <td>191</td>\n",
       "      <td>2</td>\n",
       "      <td>30</td>\n",
       "      <td>3/14/2020</td>\n",
       "      <td>0.78</td>\n",
       "      <td>1</td>\n",
       "      <td>364</td>\n",
       "    </tr>\n",
       "    <tr>\n",
       "      <th>3</th>\n",
       "      <td>110483</td>\n",
       "      <td>Michelo's fuchsia suite</td>\n",
       "      <td>567809</td>\n",
       "      <td>Michel</td>\n",
       "      <td>Stann Creek</td>\n",
       "      <td>Stann Creek Mainland</td>\n",
       "      <td>16.52114</td>\n",
       "      <td>-88.36926</td>\n",
       "      <td>Hotel room</td>\n",
       "      <td>121</td>\n",
       "      <td>1</td>\n",
       "      <td>27</td>\n",
       "      <td>2/24/2020</td>\n",
       "      <td>0.29</td>\n",
       "      <td>3</td>\n",
       "      <td>331</td>\n",
       "    </tr>\n",
       "    <tr>\n",
       "      <th>4</th>\n",
       "      <td>120115</td>\n",
       "      <td>Seaside Villas Second Floor Unit  #4</td>\n",
       "      <td>604999</td>\n",
       "      <td>Bobbi</td>\n",
       "      <td>Belize</td>\n",
       "      <td>Belize Islands</td>\n",
       "      <td>17.74166</td>\n",
       "      <td>-88.02395</td>\n",
       "      <td>Entire home/apt</td>\n",
       "      <td>343</td>\n",
       "      <td>1</td>\n",
       "      <td>30</td>\n",
       "      <td>3/18/2020</td>\n",
       "      <td>0.64</td>\n",
       "      <td>22</td>\n",
       "      <td>203</td>\n",
       "    </tr>\n",
       "  </tbody>\n",
       "</table>\n",
       "</div>"
      ],
      "text/plain": [
       "       id                                               name  host_id  \\\n",
       "0   36666         Mo's Cozy Casa w/ veranda & access to dock   157752   \n",
       "1   36690  Mo's Cozy Cabana w/ comfy veranda & access to ...   157752   \n",
       "2  108932  Purple House eco solar  w/ ocean & wildlife views   563377   \n",
       "3  110483                            Michelo's fuchsia suite   567809   \n",
       "4  120115               Seaside Villas Second Floor Unit  #4   604999   \n",
       "\n",
       "  host_name neighbourhood_group         neighbourhood  latitude  longitude  \\\n",
       "0   Monique              Belize        Belize Islands  17.74786  -88.02398   \n",
       "1   Monique              Belize        Belize Islands  17.74832  -88.02474   \n",
       "2   Michael              Belize        Belize Islands  17.73221  -88.03824   \n",
       "3    Michel         Stann Creek  Stann Creek Mainland  16.52114  -88.36926   \n",
       "4     Bobbi              Belize        Belize Islands  17.74166  -88.02395   \n",
       "\n",
       "         room_type  price  minimum_nights  number_of_reviews last_review  \\\n",
       "0  Entire home/apt    141               3                250   2/23/2021   \n",
       "1  Entire home/apt     71               3                316   2/19/2021   \n",
       "2  Entire home/apt    191               2                 30   3/14/2020   \n",
       "3       Hotel room    121               1                 27   2/24/2020   \n",
       "4  Entire home/apt    343               1                 30   3/18/2020   \n",
       "\n",
       "   reviews_per_month  calculated_host_listings_count  availability_365  \n",
       "0               2.00                               5               225  \n",
       "1               2.46                               5               164  \n",
       "2               0.78                               1               364  \n",
       "3               0.29                               3               331  \n",
       "4               0.64                              22               203  "
      ]
     },
     "execution_count": 3,
     "metadata": {},
     "output_type": "execute_result"
    }
   ],
   "source": [
    "belize_df = pd.read_csv(\"belize_airbnb_listings.csv\")\n",
    "belize_df.head()"
   ]
  },
  {
   "cell_type": "markdown",
   "metadata": {},
   "source": [
    "### 1.\tCreate two histograms in a subplot (vertical or horizontal is fine) that show the distribution of reviews_per_month and number_of_reviews in Belize Airbnb data "
   ]
  },
  {
   "cell_type": "code",
   "execution_count": 271,
   "metadata": {},
   "outputs": [
    {
     "data": {
      "image/png": "[encoded data removed]",
      "text/plain": [
       "<Figure size 720x360 with 2 Axes>"
      ]
     },
     "metadata": {
      "needs_background": "light"
     },
     "output_type": "display_data"
    }
   ],
   "source": [
    "plt.figure(figsize= (10,5))\n",
    "plt.subplot(1,2,1)\n",
    "plt.hist(belize_df['number_of_reviews'],bins=range(0,400,50), color='purple',edgecolor='black',lw=2)\n",
    "plt.title(\"Belize Airbnb Number of Reviews vs Reviews per Month\")\n",
    "plt.xlabel(\"Number of Reviews\",fontsize=10)\n",
    "plt.ylabel(\"Frequency\",fontsize=10)\n",
    "\n",
    "bins=[0,1,2,3,4,5,6]\n",
    "plt.subplot(1,2,2)\n",
    "plt.hist(belize_df['reviews_per_month'],bins=bins,color='purple',edgecolor='black',lw=2)\n",
    "#plt.title(\"histogram for reviews_per_month\")\n",
    "plt.xlabel(\"Reviews per Month\",fontsize=10)\n",
    "plt.ylabel(\"Frequency\",fontsize=10);\n"
   ]
  },
  {
   "cell_type": "markdown",
   "metadata": {},
   "source": [
    "### a. How do you choose your bin size?"
   ]
  },
  {
   "cell_type": "markdown",
   "metadata": {},
   "source": [
    "For choosing the bin size for number_of_reviews I used a Range function having arguments as (start,stop,step).For selecting the\n",
    "start and the stop range I looked at the max and the min values for the specified column.\n",
    "\n",
    "max = belize_df['number_of_reviews'].max()\n",
    "\n",
    "min = belize_df['number_of_reviews'].min()\n",
    "\n",
    "\n",
    "\n",
    "For choosing the bin size for Reviews per month I looked at the max and the min values for the column and then\n",
    "passed the required values as a list to further group my data into those values.\n",
    "\n",
    "max = belize_df['reviews_per_month'].max()\n",
    "\n",
    "min = belize_df['reviews_per_month'].min()"
   ]
  },
  {
   "cell_type": "markdown",
   "metadata": {},
   "source": [
    "### 2. Create a box and whisker plot for availability_365. What does this show you?"
   ]
  },
  {
   "cell_type": "code",
   "execution_count": 5,
   "metadata": {},
   "outputs": [
    {
     "data": {
      "image/png": "[encoded data removed]",
      "text/plain": [
       "<Figure size 432x288 with 1 Axes>"
      ]
     },
     "metadata": {
      "needs_background": "light"
     },
     "output_type": "display_data"
    }
   ],
   "source": [
    "sns.boxplot(x=\"availability_365\",data=belize_df)\n",
    "plt.title(\"Distribution of Availablility\")\n",
    "plt.xlabel(\"Availability 365\");"
   ]
  },
  {
   "cell_type": "markdown",
   "metadata": {},
   "source": [
    "This plot shows that most of the rentals are available at least 220 days.Very few have little or no availability.\n",
    "\n",
    "The black line in the box is the median which is around 349 and 50% of the data will be above this value and 50% would be lower than this value. The box plot gives us an idea about :\n",
    "\n",
    "The min value is 0\n",
    "\n",
    "Q1(first quartile) is 221\n",
    "\n",
    "median is at 349\n",
    "\n",
    "The Q3 value is at 364\n",
    "\n",
    "max value is at 365\n",
    "\n",
    "The data is left skewed\n"
   ]
  },
  {
   "cell_type": "code",
   "execution_count": 139,
   "metadata": {},
   "outputs": [],
   "source": [
    "from scipy.stats import iqr \n"
   ]
  },
  {
   "cell_type": "code",
   "execution_count": 140,
   "metadata": {},
   "outputs": [
    {
     "data": {
      "text/plain": [
       "143.0"
      ]
     },
     "execution_count": 140,
     "metadata": {},
     "output_type": "execute_result"
    }
   ],
   "source": [
    "interquartile = iqr(belize_df['availability_365'])\n",
    "interquartile"
   ]
  },
  {
   "cell_type": "code",
   "execution_count": 158,
   "metadata": {},
   "outputs": [
    {
     "name": "stdout",
     "output_type": "stream",
     "text": [
      "6.5 578.5\n"
     ]
    }
   ],
   "source": [
    "lower_threshold = np.quantile(belize_df['availability_365'],0.25) - 1.5*interquartile\n",
    "lower_threshold\n",
    "\n",
    "upper_threshold= np.quantile(belize_df['availability_365'],0.75) + 1.5*interquartile\n",
    "upper_threshold \n",
    "print(lower_threshold,upper_threshold)"
   ]
  },
  {
   "cell_type": "code",
   "execution_count": 164,
   "metadata": {},
   "outputs": [
    {
     "data": {
      "text/html": [
       "<div>\n",
       "<style scoped>\n",
       "    .dataframe tbody tr th:only-of-type {\n",
       "        vertical-align: middle;\n",
       "    }\n",
       "\n",
       "    .dataframe tbody tr th {\n",
       "        vertical-align: top;\n",
       "    }\n",
       "\n",
       "    .dataframe thead th {\n",
       "        text-align: right;\n",
       "    }\n",
       "</style>\n",
       "<table border=\"1\" class=\"dataframe\">\n",
       "  <thead>\n",
       "    <tr style=\"text-align: right;\">\n",
       "      <th></th>\n",
       "      <th>id</th>\n",
       "      <th>name</th>\n",
       "      <th>host_id</th>\n",
       "      <th>host_name</th>\n",
       "      <th>neighbourhood_group</th>\n",
       "      <th>neighbourhood</th>\n",
       "      <th>latitude</th>\n",
       "      <th>longitude</th>\n",
       "      <th>room_type</th>\n",
       "      <th>price</th>\n",
       "      <th>minimum_nights</th>\n",
       "      <th>number_of_reviews</th>\n",
       "      <th>last_review</th>\n",
       "      <th>reviews_per_month</th>\n",
       "      <th>calculated_host_listings_count</th>\n",
       "      <th>availability_365</th>\n",
       "    </tr>\n",
       "  </thead>\n",
       "  <tbody>\n",
       "    <tr>\n",
       "      <th>5</th>\n",
       "      <td>120116</td>\n",
       "      <td>Valarosa</td>\n",
       "      <td>604999</td>\n",
       "      <td>Bobbi</td>\n",
       "      <td>Belize</td>\n",
       "      <td>Belize Islands</td>\n",
       "      <td>17.73644</td>\n",
       "      <td>-88.02858</td>\n",
       "      <td>Entire home/apt</td>\n",
       "      <td>171</td>\n",
       "      <td>2</td>\n",
       "      <td>49</td>\n",
       "      <td>3/23/2020</td>\n",
       "      <td>0.80</td>\n",
       "      <td>22</td>\n",
       "      <td>0</td>\n",
       "    </tr>\n",
       "    <tr>\n",
       "      <th>24</th>\n",
       "      <td>419134</td>\n",
       "      <td>AQUA Cabana + FREE Wine (1 bottle)*</td>\n",
       "      <td>2084006</td>\n",
       "      <td>Lower Dover</td>\n",
       "      <td>Cayo</td>\n",
       "      <td>Cayo</td>\n",
       "      <td>17.20777</td>\n",
       "      <td>-88.94610</td>\n",
       "      <td>Private room</td>\n",
       "      <td>119</td>\n",
       "      <td>1</td>\n",
       "      <td>21</td>\n",
       "      <td>3/4/2020</td>\n",
       "      <td>0.25</td>\n",
       "      <td>4</td>\n",
       "      <td>0</td>\n",
       "    </tr>\n",
       "    <tr>\n",
       "      <th>41</th>\n",
       "      <td>1135078</td>\n",
       "      <td>Bay Breezes apt #4, Caye Caulker</td>\n",
       "      <td>911311</td>\n",
       "      <td>Hilda</td>\n",
       "      <td>Belize</td>\n",
       "      <td>Belize Islands</td>\n",
       "      <td>17.73951</td>\n",
       "      <td>-88.03293</td>\n",
       "      <td>Entire home/apt</td>\n",
       "      <td>89</td>\n",
       "      <td>1</td>\n",
       "      <td>138</td>\n",
       "      <td>3/13/2020</td>\n",
       "      <td>1.55</td>\n",
       "      <td>10</td>\n",
       "      <td>1</td>\n",
       "    </tr>\n",
       "    <tr>\n",
       "      <th>43</th>\n",
       "      <td>1177282</td>\n",
       "      <td>Belize Waterfront - Orchid Bay Casita 9A</td>\n",
       "      <td>6441582</td>\n",
       "      <td>Jeff And Debi</td>\n",
       "      <td>Corozal</td>\n",
       "      <td>Corozal</td>\n",
       "      <td>18.32853</td>\n",
       "      <td>-88.32882</td>\n",
       "      <td>Entire home/apt</td>\n",
       "      <td>252</td>\n",
       "      <td>2</td>\n",
       "      <td>33</td>\n",
       "      <td>12/8/2020</td>\n",
       "      <td>0.36</td>\n",
       "      <td>1</td>\n",
       "      <td>0</td>\n",
       "    </tr>\n",
       "    <tr>\n",
       "      <th>50</th>\n",
       "      <td>1432085</td>\n",
       "      <td>Hummingbird Pool House 2 bedroom cabin</td>\n",
       "      <td>604999</td>\n",
       "      <td>Bobbi</td>\n",
       "      <td>Belize</td>\n",
       "      <td>Belize Islands</td>\n",
       "      <td>17.73675</td>\n",
       "      <td>-88.02850</td>\n",
       "      <td>Entire home/apt</td>\n",
       "      <td>226</td>\n",
       "      <td>1</td>\n",
       "      <td>64</td>\n",
       "      <td>1/24/2021</td>\n",
       "      <td>0.80</td>\n",
       "      <td>22</td>\n",
       "      <td>1</td>\n",
       "    </tr>\n",
       "  </tbody>\n",
       "</table>\n",
       "</div>"
      ],
      "text/plain": [
       "         id                                      name  host_id      host_name  \\\n",
       "5    120116                                  Valarosa   604999          Bobbi   \n",
       "24   419134       AQUA Cabana + FREE Wine (1 bottle)*  2084006    Lower Dover   \n",
       "41  1135078          Bay Breezes apt #4, Caye Caulker   911311          Hilda   \n",
       "43  1177282  Belize Waterfront - Orchid Bay Casita 9A  6441582  Jeff And Debi   \n",
       "50  1432085    Hummingbird Pool House 2 bedroom cabin   604999          Bobbi   \n",
       "\n",
       "   neighbourhood_group   neighbourhood  latitude  longitude        room_type  \\\n",
       "5               Belize  Belize Islands  17.73644  -88.02858  Entire home/apt   \n",
       "24                Cayo            Cayo  17.20777  -88.94610     Private room   \n",
       "41              Belize  Belize Islands  17.73951  -88.03293  Entire home/apt   \n",
       "43             Corozal         Corozal  18.32853  -88.32882  Entire home/apt   \n",
       "50              Belize  Belize Islands  17.73675  -88.02850  Entire home/apt   \n",
       "\n",
       "    price  minimum_nights  number_of_reviews last_review  reviews_per_month  \\\n",
       "5     171               2                 49   3/23/2020               0.80   \n",
       "24    119               1                 21    3/4/2020               0.25   \n",
       "41     89               1                138   3/13/2020               1.55   \n",
       "43    252               2                 33   12/8/2020               0.36   \n",
       "50    226               1                 64   1/24/2021               0.80   \n",
       "\n",
       "    calculated_host_listings_count  availability_365  \n",
       "5                               22                 0  \n",
       "24                               4                 0  \n",
       "41                              10                 1  \n",
       "43                               1                 0  \n",
       "50                              22                 1  "
      ]
     },
     "execution_count": 164,
     "metadata": {},
     "output_type": "execute_result"
    }
   ],
   "source": [
    "filt= (belize_df['availability_365'] < lower_threshold) | (belize_df['availability_365'] >= upper_threshold)\n",
    "belize_df[filt].head(5)                                                              "
   ]
  },
  {
   "cell_type": "markdown",
   "metadata": {},
   "source": [
    "### 3. What is the probability that the price for an Airbnb is under $50."
   ]
  },
  {
   "cell_type": "code",
   "execution_count": 57,
   "metadata": {},
   "outputs": [
    {
     "data": {
      "text/plain": [
       "0.017525035765379112"
      ]
     },
     "execution_count": 57,
     "metadata": {},
     "output_type": "execute_result"
    }
   ],
   "source": [
    "price_under50 = belize_df[belize_df['price'] <50]['price'].count()\n",
    "price_under50\n",
    "\n",
    "total_price = belize_df['price'].count()\n",
    "total_price\n",
    "\n",
    "prob_price = price_under50 /total_price\n",
    "prob_price"
   ]
  },
  {
   "cell_type": "markdown",
   "metadata": {},
   "source": [
    "###  What do you notice about these records? Hint: look at the other columns"
   ]
  },
  {
   "cell_type": "code",
   "execution_count": 71,
   "metadata": {},
   "outputs": [
    {
     "data": {
      "image/png": "[encoded data removed]",
      "text/plain": [
       "<Figure size 432x288 with 1 Axes>"
      ]
     },
     "metadata": {
      "needs_background": "light"
     },
     "output_type": "display_data"
    }
   ],
   "source": [
    "filt = belize_df['price'] <50\n",
    "df_50=belize_df.loc[filt]\n",
    "df_50\n",
    "\n",
    "plt.hist(df_50['price'],bins='auto');\n",
    "#From the graph we can say that there are no  airbnb's available in the price range of 32-36.Also, the price for\n",
    "#shared room is more than the private room or the entire house at some instances which may be an outlier in this case.\n",
    "\n"
   ]
  },
  {
   "cell_type": "markdown",
   "metadata": {},
   "source": [
    "### b. What distribution does this data most closely fit?"
   ]
  },
  {
   "cell_type": "code",
   "execution_count": null,
   "metadata": {},
   "outputs": [],
   "source": [
    "This distribution fits closely to Normal distribution if we look at the price column in our dataset."
   ]
  },
  {
   "cell_type": "markdown",
   "metadata": {},
   "source": [
    "### 4. Calculate the sample variance and standard deviation for all the numerical columns in the same output. "
   ]
  },
  {
   "cell_type": "code",
   "execution_count": 72,
   "metadata": {},
   "outputs": [
    {
     "data": {
      "text/plain": [
       "price                             317109.568066\n",
       "minimum_nights                        32.147122\n",
       "number_of_reviews                    919.773508\n",
       "reviews_per_month                      0.438448\n",
       "calculated_host_listings_count      2674.046405\n",
       "availability_365                   14548.613157\n",
       "dtype: float64"
      ]
     },
     "execution_count": 72,
     "metadata": {},
     "output_type": "execute_result"
    }
   ],
   "source": [
    "belize_df.round(5)\n",
    "belize_df[['price' , 'minimum_nights' , 'number_of_reviews' , 'reviews_per_month' , 'calculated_host_listings_count' ,'availability_365']].var(ddof=1)\n"
   ]
  },
  {
   "cell_type": "code",
   "execution_count": 195,
   "metadata": {
    "scrolled": true
   },
   "outputs": [
    {
     "data": {
      "text/plain": [
       "price                             563.124825\n",
       "minimum_nights                      5.669843\n",
       "number_of_reviews                  30.327768\n",
       "reviews_per_month                   0.662154\n",
       "calculated_host_listings_count     51.711183\n",
       "availability_365                  120.617632\n",
       "dtype: float64"
      ]
     },
     "execution_count": 195,
     "metadata": {},
     "output_type": "execute_result"
    }
   ],
   "source": [
    "belize_df[['price' , 'minimum_nights' , 'number_of_reviews' , 'reviews_per_month' , 'calculated_host_listings_count' ,'availability_365']].std(ddof=1)"
   ]
  },
  {
   "cell_type": "markdown",
   "metadata": {},
   "source": [
    " ### a.Why sample variance and not population variance?"
   ]
  },
  {
   "cell_type": "markdown",
   "metadata": {},
   "source": [
    "For example I want to collect the data for some of the equity funds – these funds will be my sample. It is not necessary (and probably not possible) to collect the data for all the funds in the world (the population). I must only make sure that my sample is large enough. While having the data for 5 funds would probably be insufficient to estimate standard deviation for the whole population, 100 funds data can be enough and still very realistic to get.\n",
    "This is the reason why Sample variance is preferred over population."
   ]
  },
  {
   "cell_type": "markdown",
   "metadata": {},
   "source": [
    "### b.What is your takeaway for each metric?"
   ]
  },
  {
   "cell_type": "code",
   "execution_count": null,
   "metadata": {},
   "outputs": [],
   "source": [
    "ordinal for long and lat \n",
    "price would be interval / ratio \n",
    "minimum_nights would be interval /ratio \n",
    "As per my understanding "
   ]
  },
  {
   "cell_type": "markdown",
   "metadata": {},
   "source": [
    "### c. What are the scales of measurement for each of these values? "
   ]
  },
  {
   "cell_type": "markdown",
   "metadata": {},
   "source": [
    "Out of the 4 scales of measurement namely nominal,ordinal,interval and ratio.\n",
    "\n",
    "The scales of measuements relevant for standard deviation and variance are Interval and ratio."
   ]
  },
  {
   "cell_type": "markdown",
   "metadata": {},
   "source": [
    "### 5.What percent of Airbnb listings in Belize are available 360 days a year or more?"
   ]
  },
  {
   "cell_type": "code",
   "execution_count": 86,
   "metadata": {},
   "outputs": [
    {
     "data": {
      "text/plain": [
       "39.52074391988555"
      ]
     },
     "execution_count": 86,
     "metadata": {},
     "output_type": "execute_result"
    }
   ],
   "source": [
    "days_360or_more  = belize_df[belize_df['availability_365'] >=360]['availability_365'].count()\n",
    "total_availability = belize_df['availability_365'].count()\n",
    "\n",
    "percent_airbnb_listings = days_360or_more / total_availability * 100\n",
    "percent_airbnb_listings\n",
    "\n"
   ]
  },
  {
   "cell_type": "markdown",
   "metadata": {},
   "source": [
    "### Creating a Histogram  for visualizing the data"
   ]
  },
  {
   "cell_type": "code",
   "execution_count": 81,
   "metadata": {},
   "outputs": [
    {
     "data": {
      "image/png": "[encoded data removed]",
      "text/plain": [
       "<Figure size 432x288 with 1 Axes>"
      ]
     },
     "metadata": {
      "needs_background": "light"
     },
     "output_type": "display_data"
    }
   ],
   "source": [
    "filt = belize_df['availability_365'] >=360\n",
    "df_360=belize_df.loc[filt]\n",
    "df_360\n",
    "\n",
    "plt.hist(df_360['availability_365'],bins='auto');"
   ]
  },
  {
   "cell_type": "markdown",
   "metadata": {},
   "source": [
    "### a.360 days or less?"
   ]
  },
  {
   "cell_type": "code",
   "execution_count": 87,
   "metadata": {},
   "outputs": [
    {
     "data": {
      "text/plain": [
       "61.55221745350501"
      ]
     },
     "execution_count": 87,
     "metadata": {},
     "output_type": "execute_result"
    }
   ],
   "source": [
    "days_360or_less = belize_df[belize_df['availability_365'] <=360]['availability_365'].count()\n",
    "total_availability = belize_df['availability_365'].count()\n",
    "\n",
    "percent_airbnb_listings = days_360or_less / total_availability * 100\n",
    "percent_airbnb_listings"
   ]
  },
  {
   "cell_type": "markdown",
   "metadata": {},
   "source": [
    "### Creating a Histogram for visualizing the data"
   ]
  },
  {
   "cell_type": "code",
   "execution_count": 88,
   "metadata": {},
   "outputs": [
    {
     "data": {
      "image/png": "[encoded data removed]",
      "text/plain": [
       "<Figure size 432x288 with 1 Axes>"
      ]
     },
     "metadata": {
      "needs_background": "light"
     },
     "output_type": "display_data"
    }
   ],
   "source": [
    "filt = belize_df['availability_365'] <=360\n",
    "df_360=belize_df.loc[filt]\n",
    "df_360\n",
    "\n",
    "plt.hist(df_360['availability_365'],bins='auto');"
   ]
  },
  {
   "cell_type": "markdown",
   "metadata": {},
   "source": [
    "### b.What distribution does this data most closely fit?"
   ]
  },
  {
   "cell_type": "markdown",
   "metadata": {},
   "source": [
    "As per my understanding this data most closely fits the Poisson Distribution .\n",
    "As in poisson distribution we take into account the number of times an event is likely to occur,within a certain timeframe.\n",
    "So, in our case we are considering availability of airbnb's over a period of one year."
   ]
  },
  {
   "cell_type": "markdown",
   "metadata": {},
   "source": [
    "### 6.What minimum night count are 75% of Airnbnb listing in Belize greater than?"
   ]
  },
  {
   "cell_type": "code",
   "execution_count": 91,
   "metadata": {},
   "outputs": [
    {
     "name": "stdout",
     "output_type": "stream",
     "text": [
      "2.263948497854077 5.6698432082950365\n"
     ]
    },
    {
     "data": {
      "text/plain": [
       "-1.5576119861098228"
      ]
     },
     "execution_count": 91,
     "metadata": {},
     "output_type": "execute_result"
    }
   ],
   "source": [
    "from scipy.stats import norm\n",
    "import numpy as np\n",
    "avg_minimum_nights = belize_df['minimum_nights'].mean()\n",
    "dev_min_nights = belize_df['minimum_nights'].std()\n",
    "print(avg_minimum_nights,dev_min_nights)\n",
    "norm.ppf((1-0.75),2.26,5.66)\n",
    "#belize_df['minimum_nights'].median()\n",
    "\n",
    "# There might be more nights which are never booked, while performing these calculations like mean \n",
    "# making these values to a negative number"
   ]
  },
  {
   "cell_type": "code",
   "execution_count": 28,
   "metadata": {},
   "outputs": [
    {
     "data": {
      "text/plain": [
       "count    2796.00\n",
       "mean        2.26\n",
       "std         5.67\n",
       "min         1.00\n",
       "25%         1.00\n",
       "50%         2.00\n",
       "75%         3.00\n",
       "max       180.00\n",
       "Name: minimum_nights, dtype: float64"
      ]
     },
     "execution_count": 28,
     "metadata": {},
     "output_type": "execute_result"
    }
   ],
   "source": [
    "belize_df['minimum_nights'].describe().round(2)"
   ]
  },
  {
   "cell_type": "code",
   "execution_count": 54,
   "metadata": {},
   "outputs": [
    {
     "data": {
      "image/png": "[encoded data removed]",
      "text/plain": [
       "<Figure size 432x288 with 1 Axes>"
      ]
     },
     "metadata": {
      "needs_background": "light"
     },
     "output_type": "display_data"
    }
   ],
   "source": [
    "sns.boxplot(x=\"minimum_nights\",data=belize_df,showfliers=False)\n",
    "plt.title(\"Distribution of Minimum Nights\")\n",
    "plt.xlabel(\"Minimum Nights\");"
   ]
  }
 ],
 "metadata": {
  "kernelspec": {
   "display_name": "Python 3",
   "language": "python",
   "name": "python3"
  },
  "language_info": {
   "codemirror_mode": {
    "name": "ipython",
    "version": 3
   },
   "file_extension": ".py",
   "mimetype": "text/x-python",
   "name": "python",
   "nbconvert_exporter": "python",
   "pygments_lexer": "ipython3",
   "version": "3.8.5"
  }
 },
 "nbformat": 4,
 "nbformat_minor": 4
}
